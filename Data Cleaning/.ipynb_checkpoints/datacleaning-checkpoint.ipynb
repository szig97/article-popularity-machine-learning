{
 "cells": [
  {
   "cell_type": "code",
   "execution_count": null,
   "metadata": {},
   "outputs": [],
   "source": [
    "import pandas as pd"
   ]
  },
  {
   "cell_type": "code",
   "execution_count": null,
   "metadata": {},
   "outputs": [],
   "source": [
    "premise_file = \"../Data/OnlineNewsPopularity.csv\"\n",
    "premise_df = pd.read_csv(premise_file)\n",
    "premise_df.head()"
   ]
  },
  {
   "cell_type": "code",
   "execution_count": null,
   "metadata": {},
   "outputs": [],
   "source": [
    "premise_df.drop_duplicates(\"url\", inplace=True)\n",
    "article_df=premise_df.drop(columns=[' timedelta'])\n",
    "article_df.head()"
   ]
  },
  {
   "cell_type": "code",
   "execution_count": null,
   "metadata": {},
   "outputs": [],
   "source": [
    "transformed_article_df = article_df.copy()\n",
    "transformed_article_df.rename(columns={\" n_tokens_title\": \"Title_Word_Count\",\n",
    "                                        \" n_tokens_content\": \"Content_Word_Count\",\n",
    "                                        \" n_unique_tokens\": \"Unique_Word_Rate\",\n",
    "                                        \" n_non_stop_words\": \"Non_Stop_Word_Rate\",\n",
    "                                       \" n_non_stop_unique_tokens\": \"Unique_Non_Stop_Word_Rate\",\n",
    "                                       \" num_hrefs\": \"Number_of_Links\",\n",
    "                                       \" num_self_hrefs\": \"Number_of_Mashable_Links\",\n",
    "                                       \" num_imgs\": \"Images\",\n",
    "                                       \" num_videos\": \"Videos\",\n",
    "                                       \" average_token_length\": \"Average_Word_Length\",\n",
    "                                       \" num_keywords\": \"Number_of_Keywords\",\n",
    "                                       \" data_channel_is_lifestyle\": \"Lifestyle\",\n",
    "                                       \" data_channel_is_entertainment\": \"Entertainment\",\n",
    "                                       \" data_channel_is_bus\": \"Business\",\n",
    "                                       \" data_channel_is_socmed\": \"Social_Media\",\n",
    "                                       \" data_channel_is_tech\": \"Tech\",\n",
    "                                       \" data_channel_is_world\": \"World\",\n",
    "                                       \" kw_min_min\": \"Worst_Keyword_Min_Shares\",\n",
    "                                       \" kw_max_min\": \"Worst_Keyword_Max_Shares\",\n",
    "                                       \" kw_avg_min\": \"Worst_Keyword_Avg_Shares\",\n",
    "                                       \" kw_min_max\": \"Best_Keyword_Min_Shares\",\n",
    "                                       \" kw_max_max\": \"Best_Keyword_Max_Shares\",\n",
    "                                       \" kw_avg_max\": \"Best_Keyword_Avg_Shares\",\n",
    "                                       \" kw_min_avg\": \"Avg_Keyword_Min_Shares\",\n",
    "                                       \" kw_max_avg\": \"Avg_Keyword_Max_Shares\",\n",
    "                                       \" kw_avg_avg\": \"Avg_Keyword_Avg_Shares\",\n",
    "                                       \" self_reference_min_shares\": \"Min_Ref_Mashable_Article_Shares\",\n",
    "                                       \" self_reference_max_shares\": \"Max_Ref_Mashable_Article_Shares\",\n",
    "                                       \" self_reference_ave_sharess\": \"Avg_Ref_Mashable_Article_Shares\",\n",
    "                                       \" weekday_is_monday\": \"Monday\",\n",
    "                                       \" weekday_is_tuesday\": \"Tuesday\",\n",
    "                                       \" weekday_is_wednesday\": \"Wednesday\",\n",
    "                                       \" weekday_is_thursday\": \"Thursday\",\n",
    "                                       \" weekday_is_friday\": \"Friday\",\n",
    "                                       \" weekday_is_saturday\": \"Saturday\",\n",
    "                                       \" weekday_is_sunday\": \"Sunday\",\n",
    "                                       \" is_weekend\": \"Weekend\",\n",
    "                                       \" LDA_00\": \"Closeness_to_LDA_0\",\n",
    "                                       \" LDA_01\": \"Closeness_to_LDA_1\",\n",
    "                                       \" LDA_02\": \"Closeness_to_LDA_2\",\n",
    "                                       \" LDA_03\": \"Closeness_to_LDA_3\",\n",
    "                                       \" LDA_04\": \"Closeness_to_LDA_4\",\n",
    "                                       \" global_subjectivity\": \"Text_Subjectivity\",\n",
    "                                       \" global_sentiment_polarity\": \"Text_Sentiment_Polarity\",\n",
    "                                       \" global_rate_positive_words\": \"Global_Positive_Word_Rate\",\n",
    "                                       \" global_rate_negative_words\": \"Global_Negative_Word_Rate\",\n",
    "                                       \" rate_positive_words\": \"Positive_Word_Rate\",\n",
    "                                       \" rate_negative_words\": \"Negative_Word_Rate\",\n",
    "                                       \" avg_positive_polarity\": \"Average_Positive_Polarity\",\n",
    "                                       \" min_positive_polarity\": \"Minimum_Positive_Polarity\",\n",
    "                                       \" max_positive_polarity\": \"Maximum_Positive_Polarity\",\n",
    "                                       \" avg_negative_polarity\": \"Average_Negative_Polarity\",\n",
    "                                       \" min_negative_polarity\": \"Minimum_Negative_Polarity\",\n",
    "                                       \" max_negative_polarity\": \"Maximum_Negative_Polarity\",\n",
    "                                       \" title_subjectivity\": \"Title_Subjectivity\",\n",
    "                                       \" title_sentiment_polarity\": \"Title_Polarity\",\n",
    "                                       \" abs_title_subjectivity\": \"Absolute_Subjectivity_Level\",\n",
    "                                       \" abs_title_sentiment_polarity\": \"Absolute_Polarity_Level\",\n",
    "                                       \" shares\": \"Shares\"\n",
    "                                       }, inplace = True)\n",
    "transformed_article_df.head()"
   ]
  },
  {
   "cell_type": "code",
   "execution_count": null,
   "metadata": {},
   "outputs": [],
   "source": [
    "transformed_article_df.dropna()\n",
    "transformed_article_df.shape"
   ]
  },
  {
   "cell_type": "code",
   "execution_count": null,
   "metadata": {},
   "outputs": [],
   "source": [
    "#Find 4 Bin Values \n",
    "bins=[0,0,0,0]\n",
    "bins[0]=transformed_article_df[\"Shares\"].quantile(q=0.2)\n",
    "bins[1]=transformed_article_df[\"Shares\"].quantile(q=0.4)\n",
    "bins[2]=transformed_article_df[\"Shares\"].quantile(q=0.6)\n",
    "bins[3]=transformed_article_df[\"Shares\"].quantile(q=0.8)\n",
    "bins"
   ]
  },
  {
   "cell_type": "code",
   "execution_count": null,
   "metadata": {},
   "outputs": [],
   "source": [
    "transformed_article_df[\"Shares\"].hist(bins=100)"
   ]
  },
  {
   "cell_type": "code",
   "execution_count": null,
   "metadata": {},
   "outputs": [],
   "source": [
    "transformed_article_df[\"Category\"]=0\n",
    "transformed_article_df.loc[transformed_article_df['Shares'] > bins[0],'Category'] = 1\n",
    "transformed_article_df.loc[transformed_article_df['Shares'] > bins[1],'Category'] = 2\n",
    "transformed_article_df.loc[transformed_article_df['Shares'] > bins[2],'Category'] = 3\n",
    "transformed_article_df.loc[transformed_article_df['Shares'] > bins[3],'Category'] = 4\n",
    "transformed_article_df.head(15)"
   ]
  },
  {
   "cell_type": "code",
   "execution_count": null,
   "metadata": {},
   "outputs": [],
   "source": [
    "transformed_article_df[\"Shares\"].quantile(q=0.995)"
   ]
  },
  {
   "cell_type": "code",
   "execution_count": null,
   "metadata": {},
   "outputs": [],
   "source": [
    "transformed_article_df.to_csv('../Data/cleaneddata.csv')"
   ]
  },
  {
   "cell_type": "code",
   "execution_count": null,
   "metadata": {},
   "outputs": [],
   "source": []
  }
 ],
 "metadata": {
  "kernelspec": {
   "display_name": "Python 3",
   "language": "python",
   "name": "python3"
  },
  "language_info": {
   "codemirror_mode": {
    "name": "ipython",
    "version": 3
   },
   "file_extension": ".py",
   "mimetype": "text/x-python",
   "name": "python",
   "nbconvert_exporter": "python",
   "pygments_lexer": "ipython3",
   "version": "3.6.10"
  }
 },
 "nbformat": 4,
 "nbformat_minor": 4
}
