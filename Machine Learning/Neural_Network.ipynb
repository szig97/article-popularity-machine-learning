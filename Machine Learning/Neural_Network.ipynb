{
 "cells": [
  {
   "cell_type": "code",
   "execution_count": 1,
   "metadata": {},
   "outputs": [],
   "source": [
    "# set the seed value for reproducible results\n",
    "from numpy.random import seed\n",
    "seed(11)"
   ]
  },
  {
   "cell_type": "code",
   "execution_count": 2,
   "metadata": {},
   "outputs": [],
   "source": [
    "# import dependencies\n",
    "import numpy as np\n",
    "import pandas as pd"
   ]
  },
  {
   "cell_type": "code",
   "execution_count": 3,
   "metadata": {},
   "outputs": [
    {
     "name": "stderr",
     "output_type": "stream",
     "text": [
      "C:\\Users\\admin\\anaconda3\\envs\\PythonData\\lib\\site-packages\\tensorflow\\python\\framework\\dtypes.py:516: FutureWarning: Passing (type, 1) or '1type' as a synonym of type is deprecated; in a future version of numpy, it will be understood as (type, (1,)) / '(1,)type'.\n",
      "  _np_qint8 = np.dtype([(\"qint8\", np.int8, 1)])\n",
      "C:\\Users\\admin\\anaconda3\\envs\\PythonData\\lib\\site-packages\\tensorflow\\python\\framework\\dtypes.py:517: FutureWarning: Passing (type, 1) or '1type' as a synonym of type is deprecated; in a future version of numpy, it will be understood as (type, (1,)) / '(1,)type'.\n",
      "  _np_quint8 = np.dtype([(\"quint8\", np.uint8, 1)])\n",
      "C:\\Users\\admin\\anaconda3\\envs\\PythonData\\lib\\site-packages\\tensorflow\\python\\framework\\dtypes.py:518: FutureWarning: Passing (type, 1) or '1type' as a synonym of type is deprecated; in a future version of numpy, it will be understood as (type, (1,)) / '(1,)type'.\n",
      "  _np_qint16 = np.dtype([(\"qint16\", np.int16, 1)])\n",
      "C:\\Users\\admin\\anaconda3\\envs\\PythonData\\lib\\site-packages\\tensorflow\\python\\framework\\dtypes.py:519: FutureWarning: Passing (type, 1) or '1type' as a synonym of type is deprecated; in a future version of numpy, it will be understood as (type, (1,)) / '(1,)type'.\n",
      "  _np_quint16 = np.dtype([(\"quint16\", np.uint16, 1)])\n",
      "C:\\Users\\admin\\anaconda3\\envs\\PythonData\\lib\\site-packages\\tensorflow\\python\\framework\\dtypes.py:520: FutureWarning: Passing (type, 1) or '1type' as a synonym of type is deprecated; in a future version of numpy, it will be understood as (type, (1,)) / '(1,)type'.\n",
      "  _np_qint32 = np.dtype([(\"qint32\", np.int32, 1)])\n",
      "C:\\Users\\admin\\anaconda3\\envs\\PythonData\\lib\\site-packages\\tensorflow\\python\\framework\\dtypes.py:525: FutureWarning: Passing (type, 1) or '1type' as a synonym of type is deprecated; in a future version of numpy, it will be understood as (type, (1,)) / '(1,)type'.\n",
      "  np_resource = np.dtype([(\"resource\", np.ubyte, 1)])\n",
      "C:\\Users\\admin\\anaconda3\\envs\\PythonData\\lib\\site-packages\\tensorboard\\compat\\tensorflow_stub\\dtypes.py:541: FutureWarning: Passing (type, 1) or '1type' as a synonym of type is deprecated; in a future version of numpy, it will be understood as (type, (1,)) / '(1,)type'.\n",
      "  _np_qint8 = np.dtype([(\"qint8\", np.int8, 1)])\n",
      "C:\\Users\\admin\\anaconda3\\envs\\PythonData\\lib\\site-packages\\tensorboard\\compat\\tensorflow_stub\\dtypes.py:542: FutureWarning: Passing (type, 1) or '1type' as a synonym of type is deprecated; in a future version of numpy, it will be understood as (type, (1,)) / '(1,)type'.\n",
      "  _np_quint8 = np.dtype([(\"quint8\", np.uint8, 1)])\n",
      "C:\\Users\\admin\\anaconda3\\envs\\PythonData\\lib\\site-packages\\tensorboard\\compat\\tensorflow_stub\\dtypes.py:543: FutureWarning: Passing (type, 1) or '1type' as a synonym of type is deprecated; in a future version of numpy, it will be understood as (type, (1,)) / '(1,)type'.\n",
      "  _np_qint16 = np.dtype([(\"qint16\", np.int16, 1)])\n",
      "C:\\Users\\admin\\anaconda3\\envs\\PythonData\\lib\\site-packages\\tensorboard\\compat\\tensorflow_stub\\dtypes.py:544: FutureWarning: Passing (type, 1) or '1type' as a synonym of type is deprecated; in a future version of numpy, it will be understood as (type, (1,)) / '(1,)type'.\n",
      "  _np_quint16 = np.dtype([(\"quint16\", np.uint16, 1)])\n",
      "C:\\Users\\admin\\anaconda3\\envs\\PythonData\\lib\\site-packages\\tensorboard\\compat\\tensorflow_stub\\dtypes.py:545: FutureWarning: Passing (type, 1) or '1type' as a synonym of type is deprecated; in a future version of numpy, it will be understood as (type, (1,)) / '(1,)type'.\n",
      "  _np_qint32 = np.dtype([(\"qint32\", np.int32, 1)])\n",
      "C:\\Users\\admin\\anaconda3\\envs\\PythonData\\lib\\site-packages\\tensorboard\\compat\\tensorflow_stub\\dtypes.py:550: FutureWarning: Passing (type, 1) or '1type' as a synonym of type is deprecated; in a future version of numpy, it will be understood as (type, (1,)) / '(1,)type'.\n",
      "  np_resource = np.dtype([(\"resource\", np.ubyte, 1)])\n"
     ]
    },
    {
     "data": {
      "text/plain": [
       "'2.2.4-tf'"
      ]
     },
     "execution_count": 3,
     "metadata": {},
     "output_type": "execute_result"
    }
   ],
   "source": [
    "import tensorflow\n",
    "tensorflow.keras.__version__"
   ]
  },
  {
   "cell_type": "code",
   "execution_count": 4,
   "metadata": {},
   "outputs": [
    {
     "data": {
      "text/html": [
       "<div>\n",
       "<style scoped>\n",
       "    .dataframe tbody tr th:only-of-type {\n",
       "        vertical-align: middle;\n",
       "    }\n",
       "\n",
       "    .dataframe tbody tr th {\n",
       "        vertical-align: top;\n",
       "    }\n",
       "\n",
       "    .dataframe thead th {\n",
       "        text-align: right;\n",
       "    }\n",
       "</style>\n",
       "<table border=\"1\" class=\"dataframe\">\n",
       "  <thead>\n",
       "    <tr style=\"text-align: right;\">\n",
       "      <th></th>\n",
       "      <th>Unnamed: 0</th>\n",
       "      <th>url</th>\n",
       "      <th>Title_Word_Count</th>\n",
       "      <th>Content_Word_Count</th>\n",
       "      <th>Unique_Word_Rate</th>\n",
       "      <th>Non_Stop_Word_Rate</th>\n",
       "      <th>Unique_Non_Stop_Word_Rate</th>\n",
       "      <th>Number_of_Links</th>\n",
       "      <th>Number_of_Mashable_Links</th>\n",
       "      <th>Images</th>\n",
       "      <th>...</th>\n",
       "      <th>Maximum_Positive_Polarity</th>\n",
       "      <th>Average_Negative_Polarity</th>\n",
       "      <th>Minimum_Negative_Polarity</th>\n",
       "      <th>Maximum_Negative_Polarity</th>\n",
       "      <th>Title_Subjectivity</th>\n",
       "      <th>Title_Polarity</th>\n",
       "      <th>Absolute_Subjectivity_Level</th>\n",
       "      <th>Absolute_Polarity_Level</th>\n",
       "      <th>Shares</th>\n",
       "      <th>Category</th>\n",
       "    </tr>\n",
       "  </thead>\n",
       "  <tbody>\n",
       "    <tr>\n",
       "      <th>0</th>\n",
       "      <td>0</td>\n",
       "      <td>http://mashable.com/2013/01/07/amazon-instant-...</td>\n",
       "      <td>12.0</td>\n",
       "      <td>219.0</td>\n",
       "      <td>0.663594</td>\n",
       "      <td>1.0</td>\n",
       "      <td>0.815385</td>\n",
       "      <td>4.0</td>\n",
       "      <td>2.0</td>\n",
       "      <td>1.0</td>\n",
       "      <td>...</td>\n",
       "      <td>0.7</td>\n",
       "      <td>-0.350000</td>\n",
       "      <td>-0.600</td>\n",
       "      <td>-0.200000</td>\n",
       "      <td>0.500000</td>\n",
       "      <td>-0.187500</td>\n",
       "      <td>0.000000</td>\n",
       "      <td>0.187500</td>\n",
       "      <td>593</td>\n",
       "      <td>0</td>\n",
       "    </tr>\n",
       "    <tr>\n",
       "      <th>1</th>\n",
       "      <td>1</td>\n",
       "      <td>http://mashable.com/2013/01/07/ap-samsung-spon...</td>\n",
       "      <td>9.0</td>\n",
       "      <td>255.0</td>\n",
       "      <td>0.604743</td>\n",
       "      <td>1.0</td>\n",
       "      <td>0.791946</td>\n",
       "      <td>3.0</td>\n",
       "      <td>1.0</td>\n",
       "      <td>1.0</td>\n",
       "      <td>...</td>\n",
       "      <td>0.7</td>\n",
       "      <td>-0.118750</td>\n",
       "      <td>-0.125</td>\n",
       "      <td>-0.100000</td>\n",
       "      <td>0.000000</td>\n",
       "      <td>0.000000</td>\n",
       "      <td>0.500000</td>\n",
       "      <td>0.000000</td>\n",
       "      <td>711</td>\n",
       "      <td>0</td>\n",
       "    </tr>\n",
       "    <tr>\n",
       "      <th>2</th>\n",
       "      <td>2</td>\n",
       "      <td>http://mashable.com/2013/01/07/apple-40-billio...</td>\n",
       "      <td>9.0</td>\n",
       "      <td>211.0</td>\n",
       "      <td>0.575130</td>\n",
       "      <td>1.0</td>\n",
       "      <td>0.663866</td>\n",
       "      <td>3.0</td>\n",
       "      <td>1.0</td>\n",
       "      <td>1.0</td>\n",
       "      <td>...</td>\n",
       "      <td>1.0</td>\n",
       "      <td>-0.466667</td>\n",
       "      <td>-0.800</td>\n",
       "      <td>-0.133333</td>\n",
       "      <td>0.000000</td>\n",
       "      <td>0.000000</td>\n",
       "      <td>0.500000</td>\n",
       "      <td>0.000000</td>\n",
       "      <td>1500</td>\n",
       "      <td>1</td>\n",
       "    </tr>\n",
       "    <tr>\n",
       "      <th>3</th>\n",
       "      <td>3</td>\n",
       "      <td>http://mashable.com/2013/01/07/astronaut-notre...</td>\n",
       "      <td>9.0</td>\n",
       "      <td>531.0</td>\n",
       "      <td>0.503788</td>\n",
       "      <td>1.0</td>\n",
       "      <td>0.665635</td>\n",
       "      <td>9.0</td>\n",
       "      <td>0.0</td>\n",
       "      <td>1.0</td>\n",
       "      <td>...</td>\n",
       "      <td>0.8</td>\n",
       "      <td>-0.369697</td>\n",
       "      <td>-0.600</td>\n",
       "      <td>-0.166667</td>\n",
       "      <td>0.000000</td>\n",
       "      <td>0.000000</td>\n",
       "      <td>0.500000</td>\n",
       "      <td>0.000000</td>\n",
       "      <td>1200</td>\n",
       "      <td>1</td>\n",
       "    </tr>\n",
       "    <tr>\n",
       "      <th>4</th>\n",
       "      <td>4</td>\n",
       "      <td>http://mashable.com/2013/01/07/att-u-verse-apps/</td>\n",
       "      <td>13.0</td>\n",
       "      <td>1072.0</td>\n",
       "      <td>0.415646</td>\n",
       "      <td>1.0</td>\n",
       "      <td>0.540890</td>\n",
       "      <td>19.0</td>\n",
       "      <td>19.0</td>\n",
       "      <td>20.0</td>\n",
       "      <td>...</td>\n",
       "      <td>1.0</td>\n",
       "      <td>-0.220192</td>\n",
       "      <td>-0.500</td>\n",
       "      <td>-0.050000</td>\n",
       "      <td>0.454545</td>\n",
       "      <td>0.136364</td>\n",
       "      <td>0.045455</td>\n",
       "      <td>0.136364</td>\n",
       "      <td>505</td>\n",
       "      <td>0</td>\n",
       "    </tr>\n",
       "  </tbody>\n",
       "</table>\n",
       "<p>5 rows × 62 columns</p>\n",
       "</div>"
      ],
      "text/plain": [
       "   Unnamed: 0                                                url  \\\n",
       "0           0  http://mashable.com/2013/01/07/amazon-instant-...   \n",
       "1           1  http://mashable.com/2013/01/07/ap-samsung-spon...   \n",
       "2           2  http://mashable.com/2013/01/07/apple-40-billio...   \n",
       "3           3  http://mashable.com/2013/01/07/astronaut-notre...   \n",
       "4           4   http://mashable.com/2013/01/07/att-u-verse-apps/   \n",
       "\n",
       "   Title_Word_Count  Content_Word_Count  Unique_Word_Rate  Non_Stop_Word_Rate  \\\n",
       "0              12.0               219.0          0.663594                 1.0   \n",
       "1               9.0               255.0          0.604743                 1.0   \n",
       "2               9.0               211.0          0.575130                 1.0   \n",
       "3               9.0               531.0          0.503788                 1.0   \n",
       "4              13.0              1072.0          0.415646                 1.0   \n",
       "\n",
       "   Unique_Non_Stop_Word_Rate  Number_of_Links  Number_of_Mashable_Links  \\\n",
       "0                   0.815385              4.0                       2.0   \n",
       "1                   0.791946              3.0                       1.0   \n",
       "2                   0.663866              3.0                       1.0   \n",
       "3                   0.665635              9.0                       0.0   \n",
       "4                   0.540890             19.0                      19.0   \n",
       "\n",
       "   Images  ...  Maximum_Positive_Polarity  Average_Negative_Polarity  \\\n",
       "0     1.0  ...                        0.7                  -0.350000   \n",
       "1     1.0  ...                        0.7                  -0.118750   \n",
       "2     1.0  ...                        1.0                  -0.466667   \n",
       "3     1.0  ...                        0.8                  -0.369697   \n",
       "4    20.0  ...                        1.0                  -0.220192   \n",
       "\n",
       "   Minimum_Negative_Polarity  Maximum_Negative_Polarity  Title_Subjectivity  \\\n",
       "0                     -0.600                  -0.200000            0.500000   \n",
       "1                     -0.125                  -0.100000            0.000000   \n",
       "2                     -0.800                  -0.133333            0.000000   \n",
       "3                     -0.600                  -0.166667            0.000000   \n",
       "4                     -0.500                  -0.050000            0.454545   \n",
       "\n",
       "   Title_Polarity  Absolute_Subjectivity_Level  Absolute_Polarity_Level  \\\n",
       "0       -0.187500                     0.000000                 0.187500   \n",
       "1        0.000000                     0.500000                 0.000000   \n",
       "2        0.000000                     0.500000                 0.000000   \n",
       "3        0.000000                     0.500000                 0.000000   \n",
       "4        0.136364                     0.045455                 0.136364   \n",
       "\n",
       "   Shares  Category  \n",
       "0     593         0  \n",
       "1     711         0  \n",
       "2    1500         1  \n",
       "3    1200         1  \n",
       "4     505         0  \n",
       "\n",
       "[5 rows x 62 columns]"
      ]
     },
     "execution_count": 4,
     "metadata": {},
     "output_type": "execute_result"
    }
   ],
   "source": [
    "# bring in the data\n",
    "df = pd.read_csv('../Data/threecleaneddata.csv')\n",
    "df.head()"
   ]
  },
  {
   "cell_type": "markdown",
   "metadata": {},
   "source": [
    "## Data Pre-Processing"
   ]
  },
  {
   "cell_type": "code",
   "execution_count": 5,
   "metadata": {},
   "outputs": [
    {
     "name": "stdout",
     "output_type": "stream",
     "text": [
      "(39644, 58) (39644,)\n"
     ]
    }
   ],
   "source": [
    "X = df.drop(['Unnamed: 0', 'url', 'Category', 'Shares'], axis=1)\n",
    "\n",
    "y = df['Category']\n",
    "print(X.shape, y.shape)"
   ]
  },
  {
   "cell_type": "code",
   "execution_count": 6,
   "metadata": {},
   "outputs": [],
   "source": [
    "from sklearn.model_selection import train_test_split\n",
    "from sklearn.preprocessing import StandardScaler\n",
    "from tensorflow.keras.utils import to_categorical"
   ]
  },
  {
   "cell_type": "code",
   "execution_count": 7,
   "metadata": {},
   "outputs": [],
   "source": [
    "X_train, X_test, y_train, y_test = train_test_split(X, y, random_state=1)"
   ]
  },
  {
   "cell_type": "code",
   "execution_count": 8,
   "metadata": {},
   "outputs": [],
   "source": [
    "X_scaler = StandardScaler().fit(X_train)\n",
    "X_train_scaled = X_scaler.transform(X_train)\n",
    "X_test_scaled = X_scaler.transform(X_test)"
   ]
  },
  {
   "cell_type": "code",
   "execution_count": 9,
   "metadata": {},
   "outputs": [
    {
     "data": {
      "text/plain": [
       "array([[0., 0., 1.],\n",
       "       [0., 0., 1.],\n",
       "       [0., 0., 1.],\n",
       "       ...,\n",
       "       [0., 0., 1.],\n",
       "       [0., 1., 0.],\n",
       "       [1., 0., 0.]], dtype=float32)"
      ]
     },
     "execution_count": 9,
     "metadata": {},
     "output_type": "execute_result"
    }
   ],
   "source": [
    "y_train_categorical = to_categorical(y_train)\n",
    "y_test_categorical = to_categorical(y_test)\n",
    "y_test_categorical"
   ]
  },
  {
   "cell_type": "markdown",
   "metadata": {},
   "source": [
    "## Create a Deep Learning Model"
   ]
  },
  {
   "cell_type": "code",
   "execution_count": 10,
   "metadata": {},
   "outputs": [],
   "source": [
    "from tensorflow.keras.models import Sequential\n",
    "from tensorflow.keras.layers import Dense"
   ]
  },
  {
   "cell_type": "code",
   "execution_count": 15,
   "metadata": {},
   "outputs": [],
   "source": [
    "# Create model and add layers\n",
    "model = Sequential()\n",
    "model.add(Dense(units=100, activation='relu', input_dim=58))\n",
    "model.add(Dense(units=100, activation='relu'))\n",
    "model.add(Dense(units=3, activation='softmax'))"
   ]
  },
  {
   "cell_type": "code",
   "execution_count": 16,
   "metadata": {},
   "outputs": [],
   "source": [
    "# Compile and fit the model\n",
    "model.compile(optimizer='adam',\n",
    "              loss='categorical_crossentropy',\n",
    "              metrics=['accuracy'])"
   ]
  },
  {
   "cell_type": "code",
   "execution_count": 17,
   "metadata": {},
   "outputs": [
    {
     "name": "stdout",
     "output_type": "stream",
     "text": [
      "Model: \"sequential_1\"\n",
      "_________________________________________________________________\n",
      "Layer (type)                 Output Shape              Param #   \n",
      "=================================================================\n",
      "dense_3 (Dense)              (None, 100)               5900      \n",
      "_________________________________________________________________\n",
      "dense_4 (Dense)              (None, 100)               10100     \n",
      "_________________________________________________________________\n",
      "dense_5 (Dense)              (None, 3)                 303       \n",
      "=================================================================\n",
      "Total params: 16,303\n",
      "Trainable params: 16,303\n",
      "Non-trainable params: 0\n",
      "_________________________________________________________________\n"
     ]
    }
   ],
   "source": [
    "model.summary()"
   ]
  },
  {
   "cell_type": "code",
   "execution_count": 18,
   "metadata": {},
   "outputs": [
    {
     "name": "stdout",
     "output_type": "stream",
     "text": [
      "Epoch 1/60\n",
      "29733/29733 - 2s - loss: 1.0302 - acc: 0.4772\n",
      "Epoch 2/60\n",
      "29733/29733 - 2s - loss: 0.9927 - acc: 0.5055\n",
      "Epoch 3/60\n",
      "29733/29733 - 2s - loss: 0.9818 - acc: 0.5105\n",
      "Epoch 4/60\n",
      "29733/29733 - 2s - loss: 0.9722 - acc: 0.5205\n",
      "Epoch 5/60\n",
      "29733/29733 - 2s - loss: 0.9635 - acc: 0.5254\n",
      "Epoch 6/60\n",
      "29733/29733 - 2s - loss: 0.9551 - acc: 0.5366\n",
      "Epoch 7/60\n",
      "29733/29733 - 2s - loss: 0.9453 - acc: 0.5435\n",
      "Epoch 8/60\n",
      "29733/29733 - 2s - loss: 0.9331 - acc: 0.5519\n",
      "Epoch 9/60\n",
      "29733/29733 - 2s - loss: 0.9238 - acc: 0.5578\n",
      "Epoch 10/60\n",
      "29733/29733 - 2s - loss: 0.9140 - acc: 0.5656\n",
      "Epoch 11/60\n",
      "29733/29733 - 1s - loss: 0.9026 - acc: 0.5732\n",
      "Epoch 12/60\n",
      "29733/29733 - 1s - loss: 0.8900 - acc: 0.5798\n",
      "Epoch 13/60\n",
      "29733/29733 - 1s - loss: 0.8816 - acc: 0.5888\n",
      "Epoch 14/60\n",
      "29733/29733 - 1s - loss: 0.8693 - acc: 0.5951\n",
      "Epoch 15/60\n",
      "29733/29733 - 1s - loss: 0.8599 - acc: 0.5991\n",
      "Epoch 16/60\n",
      "29733/29733 - 1s - loss: 0.8496 - acc: 0.6066\n",
      "Epoch 17/60\n",
      "29733/29733 - 1s - loss: 0.8389 - acc: 0.6137\n",
      "Epoch 18/60\n",
      "29733/29733 - 1s - loss: 0.8303 - acc: 0.6189\n",
      "Epoch 19/60\n",
      "29733/29733 - 1s - loss: 0.8202 - acc: 0.6242\n",
      "Epoch 20/60\n",
      "29733/29733 - 1s - loss: 0.8104 - acc: 0.6310\n",
      "Epoch 21/60\n",
      "29733/29733 - 1s - loss: 0.8010 - acc: 0.6372\n",
      "Epoch 22/60\n",
      "29733/29733 - 1s - loss: 0.7926 - acc: 0.6407\n",
      "Epoch 23/60\n",
      "29733/29733 - 1s - loss: 0.7839 - acc: 0.6461\n",
      "Epoch 24/60\n",
      "29733/29733 - 1s - loss: 0.7728 - acc: 0.6524\n",
      "Epoch 25/60\n",
      "29733/29733 - 1s - loss: 0.7676 - acc: 0.6548\n",
      "Epoch 26/60\n",
      "29733/29733 - 1s - loss: 0.7607 - acc: 0.6595\n",
      "Epoch 27/60\n",
      "29733/29733 - 1s - loss: 0.7542 - acc: 0.6630\n",
      "Epoch 28/60\n",
      "29733/29733 - 1s - loss: 0.7457 - acc: 0.6681\n",
      "Epoch 29/60\n",
      "29733/29733 - 1s - loss: 0.7394 - acc: 0.6738\n",
      "Epoch 30/60\n",
      "29733/29733 - 1s - loss: 0.7322 - acc: 0.6744\n",
      "Epoch 31/60\n",
      "29733/29733 - 1s - loss: 0.7254 - acc: 0.6798\n",
      "Epoch 32/60\n",
      "29733/29733 - 1s - loss: 0.7173 - acc: 0.6863\n",
      "Epoch 33/60\n",
      "29733/29733 - 1s - loss: 0.7145 - acc: 0.6837\n",
      "Epoch 34/60\n",
      "29733/29733 - 1s - loss: 0.7058 - acc: 0.6904\n",
      "Epoch 35/60\n",
      "29733/29733 - 1s - loss: 0.6990 - acc: 0.6935\n",
      "Epoch 36/60\n",
      "29733/29733 - 1s - loss: 0.6932 - acc: 0.6977\n",
      "Epoch 37/60\n",
      "29733/29733 - 1s - loss: 0.6891 - acc: 0.6988\n",
      "Epoch 38/60\n",
      "29733/29733 - 1s - loss: 0.6805 - acc: 0.7036\n",
      "Epoch 39/60\n",
      "29733/29733 - 1s - loss: 0.6773 - acc: 0.7061\n",
      "Epoch 40/60\n",
      "29733/29733 - 1s - loss: 0.6709 - acc: 0.7078\n",
      "Epoch 41/60\n",
      "29733/29733 - 1s - loss: 0.6642 - acc: 0.7131\n",
      "Epoch 42/60\n",
      "29733/29733 - 1s - loss: 0.6589 - acc: 0.7167\n",
      "Epoch 43/60\n",
      "29733/29733 - 1s - loss: 0.6597 - acc: 0.7148\n",
      "Epoch 44/60\n",
      "29733/29733 - 1s - loss: 0.6507 - acc: 0.7196\n",
      "Epoch 45/60\n",
      "29733/29733 - 1s - loss: 0.6449 - acc: 0.7225\n",
      "Epoch 46/60\n",
      "29733/29733 - 1s - loss: 0.6417 - acc: 0.7231\n",
      "Epoch 47/60\n",
      "29733/29733 - 1s - loss: 0.6372 - acc: 0.7273\n",
      "Epoch 48/60\n",
      "29733/29733 - 1s - loss: 0.6329 - acc: 0.7279\n",
      "Epoch 49/60\n",
      "29733/29733 - 1s - loss: 0.6294 - acc: 0.7266\n",
      "Epoch 50/60\n",
      "29733/29733 - 1s - loss: 0.6260 - acc: 0.7306\n",
      "Epoch 51/60\n",
      "29733/29733 - 1s - loss: 0.6204 - acc: 0.7338\n",
      "Epoch 52/60\n",
      "29733/29733 - 1s - loss: 0.6188 - acc: 0.7351\n",
      "Epoch 53/60\n",
      "29733/29733 - 1s - loss: 0.6142 - acc: 0.7340\n",
      "Epoch 54/60\n",
      "29733/29733 - 1s - loss: 0.6110 - acc: 0.7379\n",
      "Epoch 55/60\n",
      "29733/29733 - 1s - loss: 0.6072 - acc: 0.7397\n",
      "Epoch 56/60\n",
      "29733/29733 - 1s - loss: 0.6025 - acc: 0.7442\n",
      "Epoch 57/60\n",
      "29733/29733 - 1s - loss: 0.5978 - acc: 0.7435\n",
      "Epoch 58/60\n",
      "29733/29733 - 1s - loss: 0.5970 - acc: 0.7436\n",
      "Epoch 59/60\n",
      "29733/29733 - 1s - loss: 0.5891 - acc: 0.7486\n",
      "Epoch 60/60\n",
      "29733/29733 - 1s - loss: 0.5862 - acc: 0.7496\n"
     ]
    },
    {
     "data": {
      "text/plain": [
       "<tensorflow.python.keras.callbacks.History at 0x1753f70b940>"
      ]
     },
     "execution_count": 18,
     "metadata": {},
     "output_type": "execute_result"
    }
   ],
   "source": [
    "model.fit(\n",
    "    X_train_scaled,\n",
    "    y_train_categorical,\n",
    "    epochs=60,\n",
    "    shuffle=True,\n",
    "    verbose=2\n",
    ")"
   ]
  },
  {
   "cell_type": "code",
   "execution_count": 19,
   "metadata": {},
   "outputs": [
    {
     "name": "stdout",
     "output_type": "stream",
     "text": [
      "9911/9911 - 0s - loss: 1.7058 - acc: 0.4328\n",
      "Normal Neural Network - Loss: 1.7057724897272832, Accuracy: 0.43275147676467896\n"
     ]
    }
   ],
   "source": [
    "model_loss, model_accuracy = model.evaluate(\n",
    "    X_test_scaled, y_test_categorical, verbose=2)\n",
    "print(\n",
    "    f\"Normal Neural Network - Loss: {model_loss}, Accuracy: {model_accuracy}\")"
   ]
  },
  {
   "cell_type": "code",
   "execution_count": null,
   "metadata": {},
   "outputs": [],
   "source": []
  }
 ],
 "metadata": {
  "kernelspec": {
   "display_name": "Python 3",
   "language": "python",
   "name": "python3"
  },
  "language_info": {
   "codemirror_mode": {
    "name": "ipython",
    "version": 3
   },
   "file_extension": ".py",
   "mimetype": "text/x-python",
   "name": "python",
   "nbconvert_exporter": "python",
   "pygments_lexer": "ipython3",
   "version": "3.6.10"
  }
 },
 "nbformat": 4,
 "nbformat_minor": 4
}
